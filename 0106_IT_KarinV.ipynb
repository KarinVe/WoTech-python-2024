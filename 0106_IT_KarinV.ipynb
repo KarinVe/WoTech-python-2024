{
  "nbformat": 4,
  "nbformat_minor": 0,
  "metadata": {
    "colab": {
      "provenance": [],
      "authorship_tag": "ABX9TyMmpbsfUpaQ4wZJ8Y0qorNW",
      "include_colab_link": true
    },
    "kernelspec": {
      "name": "python3",
      "display_name": "Python 3"
    },
    "language_info": {
      "name": "python"
    }
  },
  "cells": [
    {
      "cell_type": "markdown",
      "metadata": {
        "id": "view-in-github",
        "colab_type": "text"
      },
      "source": [
        "<a href=\"https://colab.research.google.com/github/KarinVe/wotech-python-2024/blob/main/0106_IT_KarinV.ipynb\" target=\"_parent\"><img src=\"https://colab.research.google.com/assets/colab-badge.svg\" alt=\"Open In Colab\"/></a>"
      ]
    },
    {
      "cell_type": "code",
      "execution_count": 37,
      "metadata": {
        "colab": {
          "base_uri": "https://localhost:8080/"
        },
        "id": "tvPvIn6W0jIF",
        "outputId": "6f916d37-0e50-4e5c-b2d4-7b6c8077d3af"
      },
      "outputs": [
        {
          "output_type": "stream",
          "name": "stdout",
          "text": [
            "The shop has 4 clients and they are: \n",
            "   Client ID: 111, name: Maria Tamm\n",
            "   Client ID: 222, name: Anna Kask\n",
            "   Client ID: 333, name: Julia Haab\n",
            "   Client ID: 444, name: Marta Lepp\n",
            "\n",
            "The list of items in the shop: \n",
            "   Item name: Book, price: 30 euros, balance in stock: 20\n",
            "   Item name: Pencil, price: 1.5 euros, balance in stock: 500\n",
            "   Item name: Pen, price: 3 euros, balance in stock: 400\n",
            "   Item name: Postcard, price: 4 euros, balance in stock: 500\n",
            "   Item name: Notebook, price: 20 euros, balance in stock: 10\n",
            "\n",
            "Client Marta Lepp, the stock is low for the item Notebook, you can only buy 8\n",
            "\n",
            "List of transactions: \n",
            "Client: 111, Maria Tamm\n",
            "  2024-06-15 10:38:47.220126 Pen, 3\n",
            "Client: 222, Anna Kask\n",
            "  2024-06-15 10:38:47.220420 Book, 3\n",
            "  2024-06-15 10:38:47.220476 Notebook, 2\n",
            "Client: 333, Julia Haab\n",
            "  2024-06-15 10:38:47.220511 Postcard, 7\n",
            "Client: 444, Marta Lepp\n",
            "  2024-06-15 10:38:47.220543 Pen, 20\n",
            "  2024-06-15 10:38:47.220671 Notebook, 8\n",
            "\n",
            "The balance of items in the shop: \n",
            "   Book, balance in stock: 17\n",
            "   Pencil, balance in stock: 500\n",
            "   Pen, balance in stock: 377\n",
            "   Postcard, balance in stock: 493\n",
            "   Notebook, balance in stock: 0\n"
          ]
        }
      ],
      "source": [
        "import datetime\n",
        "\n",
        "class Client:\n",
        "    number_of_clients = 0\n",
        "\n",
        "    def __init__(self, id, name):\n",
        "        self.id = id\n",
        "        self.name = name\n",
        "        self.transactions = []\n",
        "        Client.number_of_clients += 1\n",
        "\n",
        "    def add_transaction(self, item_name, amount):\n",
        "        for item in items:\n",
        "            if item.item_name == item_name:\n",
        "                if item.balance >= amount:\n",
        "                    transaction = Transaction(item_name, amount)\n",
        "                    self.transactions.append(transaction)\n",
        "                    item.balance -= amount\n",
        "                else:\n",
        "                    print(f'Client {client.name}, the stock is low for the item {item.item_name}, you can only buy {item.balance}')\n",
        "                    print()\n",
        "                    if item.balance > 0:\n",
        "                        transaction = Transaction(item_name, item.balance)\n",
        "                        self.transactions.append(transaction)\n",
        "                        item.balance = 0\n",
        "\n",
        "class Item:\n",
        "    def __init__(self, item_code, item_name, price, balance = 0):\n",
        "        self.item_code = item_code\n",
        "        self.item_name = item_name\n",
        "        self.price = price\n",
        "        self.balance = balance\n",
        "\n",
        "class Transaction:\n",
        "    def __init__(self, item_name, amount):\n",
        "        self.item_name = item_name\n",
        "        self.amount = amount\n",
        "        self.time_stamp = datetime.datetime.now()\n",
        "\n",
        "\n",
        "clients = [\n",
        "    Client('111', 'Maria Tamm'),\n",
        "    Client('222', 'Anna Kask'),\n",
        "    Client('333', 'Julia Haab'),\n",
        "    Client('444', 'Marta Lepp')\n",
        "]\n",
        "\n",
        "print(f'The shop has {Client.number_of_clients} clients and they are: ')\n",
        "for client in clients:\n",
        "    print(f'   Client ID: {client.id}, name: {client.name}')\n",
        "print()\n",
        "\n",
        "items = [\n",
        "    Item('001', 'Book', 30, 20),\n",
        "    Item('002', 'Pencil', 1.5, 500),\n",
        "    Item('003', 'Pen', 3, 400),\n",
        "    Item('004', 'Postcard', 4, 500),\n",
        "    Item('005', 'Notebook', 20, 10)\n",
        "]\n",
        "\n",
        "print(f'The list of items in the shop: ')\n",
        "for item in items:\n",
        "    print(f'   Item name: {item.item_name}, price: {item.price} euros, balance in stock: {item.balance}')\n",
        "print()\n",
        "\n",
        "clients[0].add_transaction('Pen', 3)\n",
        "clients[1].add_transaction('Book', 3)\n",
        "clients[1].add_transaction('Notebook', 2)\n",
        "clients[2].add_transaction('Postcard', 7)\n",
        "clients[3].add_transaction('Pen', 20)\n",
        "clients[3].add_transaction('Notebook', 10)\n",
        "\n",
        "print(f'List of transactions: ')\n",
        "for client in clients:\n",
        "    print(f'Client: {client.id}, {client.name}')\n",
        "    for transaction in client.transactions:\n",
        "        print(f'  {transaction.time_stamp} {transaction.item_name}, {transaction.amount}')\n",
        "print()\n",
        "\n",
        "print(f'The balance of items in the shop: ')\n",
        "for item in items:\n",
        "    print(f'   {item.item_name}, balance in stock: {item.balance}')"
      ]
    }
  ]
}