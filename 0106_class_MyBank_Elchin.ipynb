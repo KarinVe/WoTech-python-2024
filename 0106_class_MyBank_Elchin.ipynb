{
  "nbformat": 4,
  "nbformat_minor": 0,
  "metadata": {
    "colab": {
      "provenance": [],
      "authorship_tag": "ABX9TyOsbN0mb+SsqvXBolBWA6Rv",
      "include_colab_link": true
    },
    "kernelspec": {
      "name": "python3",
      "display_name": "Python 3"
    },
    "language_info": {
      "name": "python"
    }
  },
  "cells": [
    {
      "cell_type": "markdown",
      "metadata": {
        "id": "view-in-github",
        "colab_type": "text"
      },
      "source": [
        "<a href=\"https://colab.research.google.com/github/KarinVe/wotech-python-2024/blob/main/0106_class_MyBank_Elchin.ipynb\" target=\"_parent\"><img src=\"https://colab.research.google.com/assets/colab-badge.svg\" alt=\"Open In Colab\"/></a>"
      ]
    },
    {
      "cell_type": "code",
      "execution_count": null,
      "metadata": {
        "colab": {
          "base_uri": "https://localhost:8080/"
        },
        "id": "nOMeLdKppHoo",
        "outputId": "730dfa1a-cba2-4e51-8ebd-69b65528a376"
      },
      "outputs": [
        {
          "output_type": "stream",
          "name": "stdout",
          "text": [
            "3\n",
            "987654\n",
            "We have 3 clients in our bank: \n",
            "Anna\n",
            "Oskar\n",
            "Jenifer\n",
            "Anna\n",
            "Oskar\n",
            "Jenifer\n"
          ]
        }
      ],
      "source": [
        "class Client:\n",
        "    number_of_clients = 0\n",
        "\n",
        "    def __init__(self, id, name):\n",
        "        self.id = id\n",
        "        self.name = name\n",
        "        Client.number_of_clients += 1\n",
        "\n",
        "clients = []\n",
        "clients.append(Client('123456', 'Anna'))\n",
        "clients.append(Client('987654', 'Oskar'))\n",
        "clients.append(Client('456123', 'Jenifer'))\n",
        "\n",
        "print(Client.number_of_clients)\n",
        "print(clients[1].id)\n",
        "\n",
        "print(f'We have {Client.number_of_clients} clients in our bank: ')\n",
        "print(clients[0].name)\n",
        "print(clients[1].name)\n",
        "print(clients[2].name)\n",
        "\n",
        "for client in clients:\n",
        "    print(client.name)\n"
      ]
    },
    {
      "cell_type": "code",
      "source": [
        "class Client:\n",
        "    number_of_clients = 0\n",
        "\n",
        "    def __init__(self, id, name):\n",
        "        self.id = id\n",
        "        self.name = name\n",
        "        accounts[]\n",
        "        Client.number_of_clients += 1\n",
        "\n",
        "    def add_account(self, account):\n",
        "        self.accounts.append(account)\n",
        "\n",
        "class Account:\n",
        "    def __init__(self, number, currency):\n",
        "        self.number = number\n",
        "        self.currency = currency\n",
        "\n",
        "clients = []\n",
        "clients.append(Client('123456', 'Anna'))\n",
        "clients.append(Client('987654', 'Oskar'))\n",
        "clients.append(Client('456123', 'Jenifer'))\n",
        "\n",
        "clients[0].add_account(Account('EE654987564321', 'EUR'))\n",
        "clients[0].add_account(Account('EE654965786822', 'JPY'))\n",
        "clients[0].add_account(Account('EE654289022367', 'USD'))\n",
        "\n",
        "print(Client.number_of_clients)\n",
        "print(clients[1].id)\n",
        "\n",
        "print(f'We have {Client.number_of_clients} clients in our bank: ')\n",
        "print(clients[0].name)\n",
        "print(clients[1].name)\n",
        "print(clients[2].name)\n",
        "\n",
        "for client in clients:\n",
        "    print(client.name)"
      ],
      "metadata": {
        "id": "y7iAtAAJuv4v"
      },
      "execution_count": null,
      "outputs": []
    },
    {
      "cell_type": "code",
      "source": [
        "# defining a class Client, which will store all data and methods clients\n",
        "class Client:\n",
        "  number_of_clients = 0\n",
        "\n",
        "  def __init__(self, id, name):\n",
        "    self.id = id\n",
        "    self.name = name\n",
        "    self.accounts = []\n",
        "    Client.number_of_clients += 1\n",
        "\n",
        "  def add_account(self, account):\n",
        "    self.accounts.append(account)\n",
        "\n",
        "# defining a class Account, which will store all data and methods of any account\n",
        "class Account:\n",
        "  def __init__(self, number, currency, balance = 0.0):\n",
        "    self.number = number\n",
        "    self.currency = currency\n",
        "    self.balance = balance\n",
        "\n",
        "# now, let us work using those classes\n",
        "# adding clients to a list\n",
        "clients = []\n",
        "clients.append(Client('123456', 'Anna'))\n",
        "clients.append(Client('987654', 'Oskar'))\n",
        "clients.append(Client('456123', 'Jenifer'))\n",
        "\n",
        "\n",
        "# adding accounts to clients\n",
        "clients[0].add_account(Account('EE654987564321', 'EUR', 1000.00))\n",
        "clients[0].add_account(Account('JP582147859635', 'JPY', 25000.00))\n",
        "clients[0].add_account(Account('US654987643214', 'USD'))\n",
        "clients[1].add_account(Account('PLS65638226328', 'PLN', 47800.00))\n",
        "clients[2].add_account(Account('SES83939993928', 'SEK', 200.18))\n",
        "\n",
        "\n",
        "# printing some data\n",
        "print(f'We have {Client.number_of_clients} clients in our bank:')\n",
        "\n",
        "print(clients[1].name)\n",
        "\n",
        "for client in clients:\n",
        "  print(f'Client {client.name} has the following accounts: ')\n",
        "  for account in client.accounts:\n",
        "    print(f'{account.number} ({account.currency}) {account.balance}')"
      ],
      "metadata": {
        "colab": {
          "base_uri": "https://localhost:8080/"
        },
        "id": "IvSWrLfX12No",
        "outputId": "eef7f373-6c52-451e-a4b8-e25ac7a652ec"
      },
      "execution_count": null,
      "outputs": [
        {
          "output_type": "stream",
          "name": "stdout",
          "text": [
            "We have 3 clients in our bank:\n",
            "Oskar\n",
            "Client Anna has the following accounts: \n",
            "EE654987564321 (EUR) 1000.0\n",
            "JP582147859635 (JPY) 25000.0\n",
            "US654987643214 (USD) 0.0\n",
            "Client Oskar has the following accounts: \n",
            "PLS65638226328 (PLN) 47800.0\n",
            "Client Jenifer has the following accounts: \n",
            "SES83939993928 (SEK) 200.18\n"
          ]
        }
      ]
    },
    {
      "cell_type": "code",
      "source": [
        "import datetime # for the time_stamp\n",
        "\n",
        "class Client:\n",
        "  number_of_clients = 0\n",
        "\n",
        "  def __init__(self, id, name):\n",
        "    self.id = id\n",
        "    self.name = name\n",
        "    self.accounts = []\n",
        "    Client.number_of_clients += 1\n",
        "\n",
        "  def add_account(self, account):\n",
        "    self.accounts.append(account)\n",
        "\n",
        "# defining a class Account, which will store all data and methods of any account\n",
        "class Account:\n",
        "  def __init__(self, number, currency, balance = 0.0):\n",
        "    self.number = number\n",
        "    self.currency = currency\n",
        "    self.balance = balance\n",
        "    self.transactions = []\n",
        "\n",
        "  def make_deposit(self, amount, note):\n",
        "    self.transactions.append(Transaction(self.currency, amount, note))\n",
        "    self.balance += amount\n",
        "\n",
        "  def make_withdrawal(self, amount, note):\n",
        "    self.transactions.append(Transaction(self.currency, -amount, note))\n",
        "    self.balance -= amount\n",
        "\n",
        "class Transaction:\n",
        "    def __init__(self, currency, amount, note):\n",
        "        self.currency = currency\n",
        "        self.amount = amount\n",
        "        self.note = note\n",
        "        self.time_stamp = datetime.datetime.now() # datetime method\n",
        "\n",
        "# now, let us work using those classes\n",
        "# adding clients to a list\n",
        "clients = []\n",
        "clients.append(Client('123456', 'Anna'))\n",
        "clients.append(Client('987654', 'Oskar'))\n",
        "clients.append(Client('456123', 'Jenifer'))\n",
        "\n",
        "\n",
        "# adding accounts to clients\n",
        "clients[0].add_account(Account('EE654987564321', 'EUR', 1000.00))\n",
        "clients[0].add_account(Account('JP582147859635', 'JPY', 25000.00))\n",
        "clients[0].add_account(Account('US654987643214', 'USD'))\n",
        "clients[1].add_account(Account('PLS65638226328', 'PLN', 47800.00))\n",
        "clients[2].add_account(Account('SES83939993928', 'SEK', 200.18))\n",
        "\n",
        "# let's make some transactions\n",
        "clients[0].accounts[0].make_deposit(1200, 'Salary')\n",
        "clients[0].accounts[0].make_withdrawal(50, 'Grocery')\n",
        "clients[0].accounts[0].make_withdrawal(140, 'Clothes')\n",
        "clients[0].accounts[0].make_withdrawal(20, 'Dinner')\n",
        "\n",
        "\n",
        "\n",
        "# printing some data\n",
        "print(f'We have {Client.number_of_clients} clients in our bank:')\n",
        "\n",
        "print(clients[1].name)\n",
        "\n",
        "for client in clients:\n",
        "  print(f'Client {client.name} has the following accounts: ')\n",
        "  for account in client.accounts:\n",
        "    print(f'    {account.number} ({account.currency}) {account.balance}')\n",
        "    for transaction in account.transactions:\n",
        "        print(f'    {transaction.time_stamp} {transaction.currency} {transaction.amount}')"
      ],
      "metadata": {
        "colab": {
          "base_uri": "https://localhost:8080/"
        },
        "id": "n9IV85Ux8tcA",
        "outputId": "4fd480fb-876c-4780-95c5-7e166c74feb7"
      },
      "execution_count": null,
      "outputs": [
        {
          "output_type": "stream",
          "name": "stdout",
          "text": [
            "We have 3 clients in our bank:\n",
            "Oskar\n",
            "Client Anna has the following accounts: \n",
            "    EE654987564321 (EUR) 1990.0\n",
            "    2024-06-01 09:01:37.588390 EUR 1200\n",
            "    2024-06-01 09:01:37.588426 EUR -50\n",
            "    2024-06-01 09:01:37.588468 EUR -140\n",
            "    2024-06-01 09:01:37.588499 EUR -20\n",
            "    JP582147859635 (JPY) 25000.0\n",
            "    US654987643214 (USD) 0.0\n",
            "Client Oskar has the following accounts: \n",
            "    PLS65638226328 (PLN) 47800.0\n",
            "Client Jenifer has the following accounts: \n",
            "    SES83939993928 (SEK) 200.18\n"
          ]
        }
      ]
    }
  ]
}