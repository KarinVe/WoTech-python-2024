{
  "nbformat": 4,
  "nbformat_minor": 0,
  "metadata": {
    "colab": {
      "provenance": [],
      "authorship_tag": "ABX9TyPiQiBM35mEo1p+PuCDeDbU",
      "include_colab_link": true
    },
    "kernelspec": {
      "name": "python3",
      "display_name": "Python 3"
    },
    "language_info": {
      "name": "python"
    }
  },
  "cells": [
    {
      "cell_type": "markdown",
      "metadata": {
        "id": "view-in-github",
        "colab_type": "text"
      },
      "source": [
        "<a href=\"https://colab.research.google.com/github/KarinVe/wotech-python-2024/blob/main/0806_TW.ipynb\" target=\"_parent\"><img src=\"https://colab.research.google.com/assets/colab-badge.svg\" alt=\"Open In Colab\"/></a>"
      ]
    },
    {
      "cell_type": "markdown",
      "source": [
        "Import data to a dictionary\n",
        "Calculate, looping through every student data:\n",
        "a) Average Age of all students\n",
        "b) average Grade of all students\n",
        "c) (optional) calculate average Grade by Major"
      ],
      "metadata": {
        "id": "Hjs4OBmlM9l9"
      }
    },
    {
      "cell_type": "code",
      "execution_count": 23,
      "metadata": {
        "colab": {
          "base_uri": "https://localhost:8080/"
        },
        "id": "yPrZWN0YL4-4",
        "outputId": "d2614f42-857f-4de9-93af-11c1cef7440d"
      },
      "outputs": [
        {
          "output_type": "stream",
          "name": "stdout",
          "text": [
            "The average age of all the students is 25.2 years.\n",
            "The average grade of all the students is 80.4\n",
            "Politics: the average grade is 85.1\n",
            "Math: the average grade is 79.8\n",
            "Econ: the average grade is 76.2\n"
          ]
        }
      ],
      "source": [
        "import json\n",
        "\n",
        "with open('students.json') as json_file:\n",
        "  data = json.load(json_file)\n",
        "\n",
        "total_age = 0\n",
        "total_grades = 0\n",
        "total_students = len(data['Students'])\n",
        "\n",
        "for student in data['Students']:\n",
        "    total_age += int(student['Age'])\n",
        "    total_grades += int(student['Grade'])\n",
        "\n",
        "average_age = round(total_age / total_students, 1)\n",
        "average_grade = round(total_grades / total_students, 1)\n",
        "\n",
        "print(f'The average age of all the students is {average_age} years.')\n",
        "print(f'The average grade of all the students is {average_grade}')\n",
        "\n",
        "grades_by_major = {}\n",
        "for student in data['Students']:\n",
        "    major = student['Major']\n",
        "    grade = int(student['Grade'])\n",
        "    if major not in grades_by_major:\n",
        "        grades_by_major[major] = {'total_grade': 0, 'count': 0}\n",
        "    grades_by_major[major]['total_grade'] += grade\n",
        "    grades_by_major[major]['count'] += 1\n",
        "\n",
        "for major, value in grades_by_major.items():\n",
        "    average_grade_by_major = round(value['total_grade'] / value['count'], 1)\n",
        "    print(f'{major}: the average grade is {average_grade_by_major}')\n"
      ]
    }
  ]
}