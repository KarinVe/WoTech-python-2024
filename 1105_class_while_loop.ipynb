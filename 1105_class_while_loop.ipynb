{
  "nbformat": 4,
  "nbformat_minor": 0,
  "metadata": {
    "colab": {
      "provenance": [],
      "authorship_tag": "ABX9TyNlnN6IxFFEN06l1dbmkqeg",
      "include_colab_link": true
    },
    "kernelspec": {
      "name": "python3",
      "display_name": "Python 3"
    },
    "language_info": {
      "name": "python"
    }
  },
  "cells": [
    {
      "cell_type": "markdown",
      "metadata": {
        "id": "view-in-github",
        "colab_type": "text"
      },
      "source": [
        "<a href=\"https://colab.research.google.com/github/KarinVe/wotech-python-2024/blob/main/1105_class_while_loop.ipynb\" target=\"_parent\"><img src=\"https://colab.research.google.com/assets/colab-badge.svg\" alt=\"Open In Colab\"/></a>"
      ]
    },
    {
      "cell_type": "markdown",
      "source": [
        "### Write a for-loop and iterate through this list and print each name separately.\n"
      ],
      "metadata": {
        "id": "ZrbEMXtvCBIU"
      }
    },
    {
      "cell_type": "code",
      "execution_count": 7,
      "metadata": {
        "colab": {
          "base_uri": "https://localhost:8080/"
        },
        "id": "iTHxS5mn_NE4",
        "outputId": "09a2ab01-622e-4e2f-8e05-fae507554811"
      },
      "outputs": [
        {
          "output_type": "stream",
          "name": "stdout",
          "text": [
            "Alice\n",
            "Bob\n",
            "Charlie\n",
            "David\n",
            "Eva\n"
          ]
        }
      ],
      "source": [
        "student_names = [\"Alice\", \"Bob\", \"Charlie\", \"David\", \"Eva\"]\n",
        "for name in student_names:\n",
        "    print(name)"
      ]
    },
    {
      "cell_type": "markdown",
      "source": [
        "###While loop\n"
      ],
      "metadata": {
        "id": "o8Yk3267Dg0L"
      }
    },
    {
      "cell_type": "code",
      "source": [
        "counter = 0 #initialize the var\n",
        "\n",
        "while True: #will run until we break\n",
        "    counter = counter + 1\n",
        "    print(counter)\n",
        "    break"
      ],
      "metadata": {
        "colab": {
          "base_uri": "https://localhost:8080/"
        },
        "collapsed": true,
        "id": "rNovqnw_Djws",
        "outputId": "74fa0b5b-3c04-4225-cd1d-6d636ccdbf46"
      },
      "execution_count": 31,
      "outputs": [
        {
          "output_type": "stream",
          "name": "stdout",
          "text": [
            "1\n"
          ]
        }
      ]
    },
    {
      "cell_type": "code",
      "source": [
        "counter = 0\n",
        "\n",
        "while counter < 10: #we break until we reach logical expression to be false\n",
        "    counter = counter + 1\n",
        "    print(counter)"
      ],
      "metadata": {
        "colab": {
          "base_uri": "https://localhost:8080/"
        },
        "id": "cWFQL5GbEiV-",
        "outputId": "a9675f8f-b370-4866-caa4-918b48162f13"
      },
      "execution_count": 9,
      "outputs": [
        {
          "output_type": "stream",
          "name": "stdout",
          "text": [
            "1\n",
            "2\n",
            "3\n",
            "4\n",
            "5\n",
            "6\n",
            "7\n",
            "8\n",
            "9\n",
            "10\n"
          ]
        }
      ]
    },
    {
      "cell_type": "code",
      "source": [
        "counter = 0\n",
        "\n",
        "while counter < 10: #we break until we reach logical expression to be false\n",
        "    counter = counter + 1\n",
        "    print(counter)"
      ],
      "metadata": {
        "colab": {
          "base_uri": "https://localhost:8080/"
        },
        "id": "xsVXZ1zsHVwh",
        "outputId": "8275b35f-886d-4f27-e573-724624a66b7a"
      },
      "execution_count": 10,
      "outputs": [
        {
          "output_type": "stream",
          "name": "stdout",
          "text": [
            "1\n",
            "2\n",
            "3\n",
            "4\n",
            "5\n",
            "6\n",
            "7\n",
            "8\n",
            "9\n",
            "10\n"
          ]
        }
      ]
    },
    {
      "cell_type": "code",
      "source": [
        "counter = 0\n",
        "\n",
        "while True: #will run until we break\n",
        "    counter = counter + 1\n",
        "    print(counter)\n",
        "    break"
      ],
      "metadata": {
        "colab": {
          "base_uri": "https://localhost:8080/"
        },
        "id": "7jJlup9gIXsa",
        "outputId": "2232584d-4474-4f03-be93-539777758b9b"
      },
      "execution_count": 11,
      "outputs": [
        {
          "output_type": "stream",
          "name": "stdout",
          "text": [
            "1\n"
          ]
        }
      ]
    },
    {
      "cell_type": "code",
      "source": [
        "counter = 0\n",
        "\n",
        "while True: #we break until we reach logical expression to be false # logical expression == True, hardcoded\n",
        "    counter = counter + 1\n",
        "    print(counter)\n",
        "    if counter < 10:\n",
        "        continue #goes up to the loop\n",
        "    else:\n",
        "        break # we break out of the loop here, we stop the loop"
      ],
      "metadata": {
        "colab": {
          "base_uri": "https://localhost:8080/"
        },
        "id": "HAbPPsLmJiJb",
        "outputId": "ec385b07-7883-4aa2-db2b-16cff2a58e94"
      },
      "execution_count": 12,
      "outputs": [
        {
          "output_type": "stream",
          "name": "stdout",
          "text": [
            "1\n",
            "2\n",
            "3\n",
            "4\n",
            "5\n",
            "6\n",
            "7\n",
            "8\n",
            "9\n",
            "10\n"
          ]
        }
      ]
    },
    {
      "cell_type": "markdown",
      "source": [
        "###While loop exercise\n"
      ],
      "metadata": {
        "id": "bXiLJOQqQgE3"
      }
    },
    {
      "cell_type": "code",
      "source": [
        "city = input('What cities you have been to in LV or EE? TO stop write \"stop\".')\n",
        "\n",
        "if city == 'stop':\n",
        "    print('You have written \"stop\"')\n",
        "else:\n",
        "    print(f'I see the city you have been to {city}')"
      ],
      "metadata": {
        "colab": {
          "base_uri": "https://localhost:8080/"
        },
        "id": "OWMVVe_tQkQG",
        "outputId": "601cfe8c-b943-4059-a0c9-3bc31890390c"
      },
      "execution_count": 13,
      "outputs": [
        {
          "output_type": "stream",
          "name": "stdout",
          "text": [
            "What cities you have been to in LV or EE? TO stop write \"stop\".Tallinn\n",
            "I see the city you have been to Tallinn\n"
          ]
        }
      ]
    },
    {
      "cell_type": "code",
      "source": [
        "while True: #city != \"stop\"\n",
        "    city = input('What cities you have been to in LV or EE? TO stop write \"stop\".')\n",
        "\n",
        "    if city == 'stop':\n",
        "        print('You have written \"stop\"') #run the code until user has written \"stop\"\n",
        "        break\n",
        "    else:\n",
        "        print(f'I see the city you have been to is {city}')\n",
        "        continue"
      ],
      "metadata": {
        "colab": {
          "base_uri": "https://localhost:8080/"
        },
        "id": "wQc81DbnSri4",
        "outputId": "93296113-b5e3-471d-dc63-bbe9d37962ff"
      },
      "execution_count": 14,
      "outputs": [
        {
          "output_type": "stream",
          "name": "stdout",
          "text": [
            "What cities you have been to in LV or EE? TO stop write \"stop\".Riga\n",
            "I see the city you have been to is Riga\n",
            "What cities you have been to in LV or EE? TO stop write \"stop\".Tallinn\n",
            "I see the city you have been to is Tallinn\n",
            "What cities you have been to in LV or EE? TO stop write \"stop\".stop\n",
            "You have written \"stop\"\n"
          ]
        }
      ]
    },
    {
      "cell_type": "code",
      "source": [
        "while True: #city != \"stop\"\n",
        "    city = input('What cities you have been to in LV or EE? TO stop write \"stop\".')\n",
        "\n",
        "    if city == 'stop':\n",
        "        print('You have written \"stop\"') #run the code until user has written \"stop\"\n",
        "        break\n",
        "    else:\n",
        "        print(f'I see the city you have been to is {city}')\n",
        "        continue"
      ],
      "metadata": {
        "colab": {
          "base_uri": "https://localhost:8080/"
        },
        "id": "BcD_sZlwTbg3",
        "outputId": "fa5c4b96-b04b-43dd-93f2-09ca12e2f590"
      },
      "execution_count": 15,
      "outputs": [
        {
          "output_type": "stream",
          "name": "stdout",
          "text": [
            "What cities you have been to in LV or EE? TO stop write \"stop\".Riga\n",
            "I see the city you have been to is Riga\n",
            "What cities you have been to in LV or EE? TO stop write \"stop\".Tallinn\n",
            "I see the city you have been to is Tallinn\n",
            "What cities you have been to in LV or EE? TO stop write \"stop\".stop\n",
            "You have written \"stop\"\n"
          ]
        }
      ]
    },
    {
      "cell_type": "markdown",
      "source": [
        "Initiate a list, append each city to the list, print out how many cities user has been to."
      ],
      "metadata": {
        "id": "wIOpcb1lVrNv"
      }
    },
    {
      "cell_type": "code",
      "source": [
        "#Initiate list\n",
        "cities = []\n",
        "\n",
        "while True: #city != \"stop\"\n",
        "    city = input('What cities you have been to in LV or EE? TO stop write \"stop\".')\n",
        "\n",
        "    if city == 'stop':\n",
        "        print('You have written \"stop\"') #run the code until user has written \"stop\"\n",
        "        break\n",
        "    else:\n",
        "        print(f'I see the city you have been to is {city}')\n",
        "        cities.append(city)\n",
        "        continue\n",
        "        #Append to the list\n",
        "\n",
        "#print how many cities\n",
        "\n",
        "print(f'You have been to {len(cities)} cities')"
      ],
      "metadata": {
        "colab": {
          "base_uri": "https://localhost:8080/"
        },
        "id": "wP86ptaqVq2V",
        "outputId": "f9f5ce63-6065-45e6-9310-e2d2d2968404"
      },
      "execution_count": 16,
      "outputs": [
        {
          "output_type": "stream",
          "name": "stdout",
          "text": [
            "What cities you have been to in LV or EE? TO stop write \"stop\".Riga\n",
            "I see the city you have been to is Riga\n",
            "What cities you have been to in LV or EE? TO stop write \"stop\".Tallinn\n",
            "I see the city you have been to is Tallinn\n",
            "What cities you have been to in LV or EE? TO stop write \"stop\".stop\n",
            "You have written \"stop\"\n",
            "You have been to 2 cities\n"
          ]
        }
      ]
    },
    {
      "cell_type": "markdown",
      "source": [
        "Initiate a counter variable, increment it with each iteration, add the counter in the print statement"
      ],
      "metadata": {
        "id": "Fq3_NQPJY6-w"
      }
    },
    {
      "cell_type": "code",
      "source": [
        "cities = []\n",
        "counter = 0 #initiate the counter\n",
        "\n",
        "while True: #city != \"stop\"\n",
        "    city = input('What cities you have been to in LV or EE? TO stop write \"stop\".')\n",
        "\n",
        "    if city == 'stop':\n",
        "        print('You have written \"stop\"') #run the code until user has written \"stop\"\n",
        "        break\n",
        "    else:\n",
        "        counter = counter + 1\n",
        "        print(f'{counter}. I see the city you have been to is {city}')\n",
        "        cities.append(city)\n",
        "        #Append to the list\n",
        "\n",
        "#print how many cities\n",
        "\n",
        "print(f'You have been to {counter} cities')"
      ],
      "metadata": {
        "colab": {
          "base_uri": "https://localhost:8080/"
        },
        "id": "X6CiK2OjZL6j",
        "outputId": "ea39a3ae-909e-49c4-9d04-a4907aa972d4"
      },
      "execution_count": 19,
      "outputs": [
        {
          "output_type": "stream",
          "name": "stdout",
          "text": [
            "What cities you have been to in LV or EE? TO stop write \"stop\".Riga\n",
            "1. I see the city you have been to is Riga\n",
            "What cities you have been to in LV or EE? TO stop write \"stop\".Tallinn\n",
            "2. I see the city you have been to is Tallinn\n",
            "What cities you have been to in LV or EE? TO stop write \"stop\".stop\n",
            "You have written \"stop\"\n",
            "You have been to 2 cities\n"
          ]
        }
      ]
    },
    {
      "cell_type": "code",
      "source": [
        "cities = []\n",
        "\n",
        "while True: #city != \"stop\"\n",
        "    city = input('What cities you have been to in LV or EE? TO stop write \"stop\".')\n",
        "\n",
        "    if city == 'stop':\n",
        "        print('You have written \"stop\"') #run the code until user has written \"stop\"\n",
        "        break\n",
        "    else:\n",
        "        cities.append(city)\n",
        "        print(f'{len(cities)}. I see the city you have been to is {city}') #counter can be replaced with {len(cities)}\n",
        "        #Append to the list\n",
        "\n",
        "#print how many cities\n",
        "\n",
        "print(f'You have been to {len(cities)} cities')"
      ],
      "metadata": {
        "colab": {
          "base_uri": "https://localhost:8080/"
        },
        "id": "jm4L5SJ9m8oH",
        "outputId": "10f3c6bd-f746-4bdc-8215-974797bb24e6"
      },
      "execution_count": 20,
      "outputs": [
        {
          "output_type": "stream",
          "name": "stdout",
          "text": [
            "What cities you have been to in LV or EE? TO stop write \"stop\".Riga\n",
            "1. I see the city you have been to is Riga\n",
            "What cities you have been to in LV or EE? TO stop write \"stop\".Tallinn\n",
            "2. I see the city you have been to is Tallinn\n",
            "What cities you have been to in LV or EE? TO stop write \"stop\".stop\n",
            "You have written \"stop\"\n",
            "You have been to 2 cities\n"
          ]
        }
      ]
    },
    {
      "cell_type": "markdown",
      "source": [
        "# Importing a library"
      ],
      "metadata": {
        "id": "IbfFG4pzq_K8"
      }
    },
    {
      "cell_type": "code",
      "source": [
        "import random"
      ],
      "metadata": {
        "id": "zi5ctTVXrDFn"
      },
      "execution_count": 21,
      "outputs": []
    },
    {
      "cell_type": "code",
      "source": [
        "random.randint(1, 101)"
      ],
      "metadata": {
        "colab": {
          "base_uri": "https://localhost:8080/"
        },
        "id": "lpNOP15praXD",
        "outputId": "a99dca8e-684d-426b-c644-8d72112305db"
      },
      "execution_count": 22,
      "outputs": [
        {
          "output_type": "execute_result",
          "data": {
            "text/plain": [
              "92"
            ]
          },
          "metadata": {},
          "execution_count": 22
        }
      ]
    },
    {
      "cell_type": "code",
      "source": [
        "random_number = random.randint(1, 101)\n",
        "print(random_number)"
      ],
      "metadata": {
        "colab": {
          "base_uri": "https://localhost:8080/"
        },
        "id": "EKbhAmwcsBEf",
        "outputId": "72c0c9d9-7c10-478f-b002-6f5fce0414a9"
      },
      "execution_count": 23,
      "outputs": [
        {
          "output_type": "stream",
          "name": "stdout",
          "text": [
            "55\n"
          ]
        }
      ]
    },
    {
      "cell_type": "code",
      "source": [
        "while True:\n",
        "    guess = input('Guess the number between 1 and 100, to quit write \"stop\"! ')\n",
        "\n",
        "    if guess == \"stop\":\n",
        "        print('The game has been stopped')\n",
        "        break\n",
        "\n",
        "    guess = int(guess)\n",
        "\n",
        "    if guess == random_number:\n",
        "        print('Congratulations! You guessed the correct number')\n",
        "        break\n",
        "    else:\n",
        "        print('Wrong, guess again')\n"
      ],
      "metadata": {
        "colab": {
          "base_uri": "https://localhost:8080/"
        },
        "id": "qdZQBxm7xUJg",
        "outputId": "34256104-1260-4430-89d6-d704e198990c"
      },
      "execution_count": 24,
      "outputs": [
        {
          "output_type": "stream",
          "name": "stdout",
          "text": [
            "Guess the number between 1 and 100, to quit write \"stop\"! 2\n",
            "Wrong, guess again\n",
            "Guess the number between 1 and 100, to quit write \"stop\"! 9\n",
            "Wrong, guess again\n",
            "Guess the number between 1 and 100, to quit write \"stop\"! 9\n",
            "Wrong, guess again\n",
            "Guess the number between 1 and 100, to quit write \"stop\"! 100\n",
            "Wrong, guess again\n",
            "Guess the number between 1 and 100, to quit write \"stop\"! 45\n",
            "Wrong, guess again\n",
            "Guess the number between 1 and 100, to quit write \"stop\"! stop\n",
            "The game has been stopped\n"
          ]
        }
      ]
    },
    {
      "cell_type": "code",
      "source": [
        "while True:\n",
        "    guess = input('Guess the number between 1 and 100, to quit write \"stop\"! ')\n",
        "\n",
        "    if guess == \"stop\":\n",
        "        print('The game has been stopped')\n",
        "        break\n",
        "\n",
        "    guess = int(guess)\n",
        "\n",
        "    if guess == random_number:\n",
        "        print('Congratulations! You guessed the correct number!')\n",
        "        break\n",
        "\n",
        "    else:\n",
        "        # WE ARE MAKING THE GAME EASIER\n",
        "        if guess > random_number:\n",
        "            print('Try lower!')\n",
        "        else:\n",
        "            print('Try higher!')\n"
      ],
      "metadata": {
        "colab": {
          "base_uri": "https://localhost:8080/"
        },
        "id": "_QtE5Dcs94Hc",
        "outputId": "6eeecbd6-5fbd-4d9b-cefd-72edc5d038aa"
      },
      "execution_count": 25,
      "outputs": [
        {
          "output_type": "stream",
          "name": "stdout",
          "text": [
            "Guess the number between 1 and 100, to quit write \"stop\"! 6\n",
            "Try higher!\n",
            "Guess the number between 1 and 100, to quit write \"stop\"! 30\n",
            "Try higher!\n",
            "Guess the number between 1 and 100, to quit write \"stop\"! 80\n",
            "Try lower!\n",
            "Guess the number between 1 and 100, to quit write \"stop\"! 74\n",
            "Try lower!\n",
            "Guess the number between 1 and 100, to quit write \"stop\"! 55\n",
            "Congratulations! You guessed the correct number!\n"
          ]
        }
      ]
    },
    {
      "cell_type": "markdown",
      "source": [
        "Add a list where all the guesses will be saved and in the end loop print how many guesses were there."
      ],
      "metadata": {
        "id": "wBWM2N7mALkX"
      }
    },
    {
      "cell_type": "code",
      "source": [
        "guesses = [] #initialize the list for integers\n",
        "\n",
        "while True:\n",
        "    guess = input('Guess the number between 1 and 100, to quit write \"stop\"! ')\n",
        "\n",
        "    if guess == \"stop\":\n",
        "        print('The game has been stopped')\n",
        "        break\n",
        "\n",
        "    guess = int(guess)\n",
        "    guesses.append(guess) #append it to the list\n",
        "\n",
        "    if guess == random_number:\n",
        "        print(f'Congratulations! You guessed the correct number. You had {len(guesses)} guesses')\n",
        "        break\n",
        "\n",
        "    else:\n",
        "        # WE ARE MAKING THE GAME EASIER\n",
        "        if guess > random_number:\n",
        "            print('Try lower!')\n",
        "        else:\n",
        "            print('Try higher!')\n"
      ],
      "metadata": {
        "colab": {
          "base_uri": "https://localhost:8080/"
        },
        "id": "J6RPfvBqGETT",
        "outputId": "f6061a3b-b4ae-4c58-e859-5f2a6c8c578f"
      },
      "execution_count": 26,
      "outputs": [
        {
          "output_type": "stream",
          "name": "stdout",
          "text": [
            "Guess the number between 1 and 100, to quit write \"stop\"! 45\n",
            "Try higher!\n",
            "Guess the number between 1 and 100, to quit write \"stop\"! 55\n",
            "Congratulations! You guessed the correct number. You had 2 guesses\n"
          ]
        }
      ]
    },
    {
      "cell_type": "code",
      "source": [
        "guesses"
      ],
      "metadata": {
        "colab": {
          "base_uri": "https://localhost:8080/"
        },
        "id": "azxP5fnxHqys",
        "outputId": "460b2fc3-c994-4013-d9be-cfe6987ba76b"
      },
      "execution_count": 27,
      "outputs": [
        {
          "output_type": "execute_result",
          "data": {
            "text/plain": [
              "[45, 55]"
            ]
          },
          "metadata": {},
          "execution_count": 27
        }
      ]
    },
    {
      "cell_type": "code",
      "source": [
        "random_number = random.randint(1, 101)\n",
        "\n",
        "guesses = [] #initialize the list for integers\n",
        "\n",
        "while True:\n",
        "    guess = input('Guess the number between 1 and 100, to quit write \"stop\"! ')\n",
        "\n",
        "    if guess == \"stop\":\n",
        "        print('The game has been stopped')\n",
        "        break\n",
        "    #TRY\n",
        "    try:\n",
        "        guess = int(guess)\n",
        "    #EXCEPT\n",
        "    except:\n",
        "        print('Please enter a number')\n",
        "        continue\n",
        "    guesses.append(guess) #append it to the list\n",
        "\n",
        "    if guess == random_number:\n",
        "        print(f'Congratulations! You guessed the correct number. You had {len(guesses)} guesses')\n",
        "        break\n",
        "\n",
        "    else:\n",
        "        # WE ARE MAKING THE GAME EASIER\n",
        "        if guess > random_number:\n",
        "            print('Try lower!')\n",
        "        else:\n",
        "            print('Try higher!')"
      ],
      "metadata": {
        "colab": {
          "base_uri": "https://localhost:8080/"
        },
        "id": "3MTbDemuXXFp",
        "outputId": "1a68af8e-8ae6-4b90-fc7d-ecab2edbedc7"
      },
      "execution_count": 30,
      "outputs": [
        {
          "output_type": "stream",
          "name": "stdout",
          "text": [
            "Guess the number between 1 and 100, to quit write \"stop\"! 3\n",
            "Try higher!\n",
            "Guess the number between 1 and 100, to quit write \"stop\"! 60\n",
            "Try higher!\n",
            "Guess the number between 1 and 100, to quit write \"stop\"! 90\n",
            "Try lower!\n",
            "Guess the number between 1 and 100, to quit write \"stop\"! jqljq\n",
            "Please enter a number\n",
            "Guess the number between 1 and 100, to quit write \"stop\"! 80\n",
            "Try higher!\n",
            "Guess the number between 1 and 100, to quit write \"stop\"! 85\n",
            "Try lower!\n",
            "Guess the number between 1 and 100, to quit write \"stop\"! 82\n",
            "Try higher!\n",
            "Guess the number between 1 and 100, to quit write \"stop\"! 83\n",
            "Try higher!\n",
            "Guess the number between 1 and 100, to quit write \"stop\"! 84\n",
            "Congratulations! You guessed the correct number. You had 8 guesses\n"
          ]
        }
      ]
    }
  ]
}